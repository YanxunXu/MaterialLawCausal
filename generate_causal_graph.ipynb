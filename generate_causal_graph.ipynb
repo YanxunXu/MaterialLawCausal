{
 "cells": [
  {
   "cell_type": "code",
   "execution_count": 1,
   "metadata": {},
   "outputs": [],
   "source": [
    "import pandas as pd\n",
    "import matplotlib.pyplot as plt\n",
    "import numpy as np\n",
    "from graphviz import Digraph\n",
    "import networkx as nx\n",
    "from networkx.drawing.nx_agraph import graphviz_layout, to_agraph\n",
    "import pygraphviz as pgv"
   ]
  },
  {
   "cell_type": "code",
   "execution_count": 10,
   "metadata": {},
   "outputs": [],
   "source": [
    "#generating traction graph\n",
    "edge_count = {}\n",
    "for k in range(1,51):\n",
    "    name = 'traction_graph_{}.csv'.format(k)\n",
    "    cs_matrix = pd.read_csv(name,sep = \",\",header=None)\n",
    "    cs_matrix=np.matrix(np.abs(cs_matrix))\n",
    "    cs_matrix[:,0]= 0 # make sure no edges to Input\n",
    "    cs_matrix[1,:]= 0 # clean the edges out from the target\n",
    "    \n",
    "    if k == 1: # since in this case Poro is linear with Us, \n",
    "            #. we delete Poro to keep algorithm run properly\n",
    "        labels = {0:\"U\",1:\"T\",2:\"CN\",3:\"Fabric\"}\n",
    "    else:\n",
    "        labels = {0:\"U\",1:\"T\",2:\"Poro\",3:\"CN\",4:\"Fabric\"} \n",
    "        \n",
    "    Q= nx.from_numpy_matrix(cs_matrix, create_using = nx.DiGraph())\n",
    "    edgelists= list(Q.edges())\n",
    "    sources = []\n",
    "    targets = []\n",
    "    edgenames = [] \n",
    "    for i in range(len(edgelists)):\n",
    "        if edgelists[i][0] in labels:\n",
    "            sources.append(labels[edgelists[i][0]])\n",
    "        if edgelists[i][1] in labels:\n",
    "            targets.append(labels[edgelists[i][1]])\n",
    "\n",
    "    for i in range(len(sources)):\n",
    "        edgenames.append((sources[i],targets[i]))\n",
    "        if edgenames[-1] in edge_count:\n",
    "            edge_count[edgenames[-1]] += 1\n",
    "        else:\n",
    "            edge_count[edgenames[-1]] = 0\n",
    "            \n",
    "    # if you want to see how each graph works\n",
    "    # G = nx.DiGraph()\n",
    "    # G.add_edges_from(edgenames)\n",
    "    # G.graph['graph']={'rankdir':'TD'}\n",
    "    # G.graph['node']={'shape':'circle'}\n",
    "    # G.graph['edges']={'arrowsize':'0.2'}\n",
    "    # A = to_agraph(G)\n",
    "    # A.layout('dot')\n",
    "    # filename = 'elas_graph_{}.png'.format(k)\n",
    "    # A.draw(filename)"
   ]
  },
  {
   "cell_type": "code",
   "execution_count": 2,
   "metadata": {},
   "outputs": [],
   "source": [
    "# This is for elas final granula graph\n",
    "edge_count = {}\n",
    "for k in range(1,30):\n",
    "    name = 'final_gns_modified_{}.csv'.format(k)\n",
    "    cs_matrix = pd.read_csv(name,sep = \",\",header=None)\n",
    "    cs_matrix=np.matrix(np.abs(cs_matrix))\n",
    "    cs_matrix[:,0]=0\n",
    "    cs_matrix[1,:]=0\n",
    "\n",
    "    labels = {0:\"Eps\",1:\"Sig\",2:\"CN\",3:\"SFb\",4:\"degrAssort\",\n",
    "             5:\"transty\",6:\"graphDensity\",7:\"Average_Clustering\",8:\"graph_clique_number\",9:\"local_efficiency\",10:\"Porosity\"}\n",
    "\n",
    "    Q= nx.from_numpy_matrix(cs_matrix, create_using = nx.DiGraph())\n",
    "    edgelists= list(Q.edges())\n",
    "    sources = []\n",
    "    targets = []\n",
    "    edgenames = [] \n",
    "    for i in range(len(edgelists)):\n",
    "        if edgelists[i][0] in labels:\n",
    "            sources.append(labels[edgelists[i][0]])\n",
    "        if edgelists[i][1] in labels:\n",
    "            targets.append(labels[edgelists[i][1]])\n",
    "\n",
    "    for i in range(len(sources)):\n",
    "        edgenames.append((sources[i],targets[i]))\n",
    "        if edgenames[-1] in edge_count:\n",
    "            edge_count[edgenames[-1]] += 1\n",
    "        else:\n",
    "            edge_count[edgenames[-1]] = 0\n",
    "    \n",
    "    #     G = nx.DiGraph()\n",
    "    #     G.add_edges_from(edgenames)\n",
    "    #     G.graph['graph']={'rankdir':'TD'}\n",
    "    #     G.graph['node']={'shape':'circle'}\n",
    "    #     G.graph['edges']={'arrowsize':'0.2'}\n",
    "\n",
    "    #     A = to_agraph(G)\n",
    "    #     A.layout('dot')\n",
    "    #     filename = 'elas_gns_{}.png'.format(k)\n",
    "    #     A.draw(filename)"
   ]
  },
  {
   "cell_type": "code",
   "execution_count": null,
   "metadata": {},
   "outputs": [],
   "source": [
    "from collections import OrderedDict\n",
    "edge_counted  = OrderedDict(sorted(edge_count.items(), key=lambda t: t[1],reverse = True))\n",
    "total_cases = 30 # for elas total_cases is 30, for traction problem is 50\n",
    "for key,value in edge_counted.items():\n",
    "    edge_counted[key] = (value / total_cases)*100\n",
    "    \n",
    "edge_counted"
   ]
  },
  {
   "cell_type": "code",
   "execution_count": 14,
   "metadata": {},
   "outputs": [],
   "source": [
    "#use a threshold to get the graph\n",
    "valid_graph_edges = [key for key,value in edge_counted.items() if float(value) > 20]\n",
    "G = nx.DiGraph()\n",
    "G.add_edges_from(valid_graph_edges)\n",
    "G.graph['graph']={'rankdir':'TD'}\n",
    "G.graph['node']={'shape':'circle'}\n",
    "G.graph['edges']={'arrowsize':'0.2'}\n",
    "A = to_agraph(G)\n",
    "A.layout('dot')\n",
    "filename = 'trial_final_graph_with_20%.png'\n",
    "A.draw(filename)"
   ]
  },
  {
   "cell_type": "code",
   "execution_count": 13,
   "metadata": {},
   "outputs": [],
   "source": [
    "# move the edge in the traction problem\n",
    "valid_graph_edges.remove((\"Fabric\",\"CN\"))"
   ]
  },
  {
   "cell_type": "code",
   "execution_count": null,
   "metadata": {},
   "outputs": [],
   "source": [
    "# move the following edges in the elas problem by the rule\n",
    "valid_graph_edges.remove(('SFb', 'Porosity'))\n",
    "valid_graph_edges.remove(('SFb', 'degrAssort'))\n",
    "valid_graph_edges.remove(('local_efficiency', 'Average_Clustering'))\n",
    "valid_graph_edges.remove(('transty', 'local_efficiency'))\n",
    "# valid_graph_edges.remove(('graph_clique_number', 'SFb'))\n",
    "valid_graph_edges.remove(('transty','Average_Clustering'))"
   ]
  },
  {
   "cell_type": "code",
   "execution_count": 16,
   "metadata": {},
   "outputs": [
    {
     "name": "stdout",
     "output_type": "stream",
     "text": [
      "Eps -> SFb [label = \"93%\"]\n",
      "Eps -> Porosity [label = \"93%\"]\n",
      "Eps -> CN [label = \"80%\"]\n",
      "CN -> SFb [label = \"73%\"]\n",
      "graphDensity -> SFb [label = \"73%\"]\n",
      "Average_Clustering -> SFb [label = \"73%\"]\n",
      "graph_clique_number -> SFb [label = \"73%\"]\n",
      "transty -> SFb [label = \"70%\"]\n",
      "local_efficiency -> SFb [label = \"70%\"]\n",
      "Average_Clustering -> local_efficiency [label = \"66%\"]\n",
      "Eps -> graphDensity [label = \"63%\"]\n",
      "local_efficiency -> transty [label = \"60%\"]\n",
      "Porosity -> SFb [label = \"60%\"]\n",
      "degrAssort -> SFb [label = \"53%\"]\n",
      "degrAssort -> transty [label = \"46%\"]\n",
      "Eps -> transty [label = \"43%\"]\n",
      "Average_Clustering -> transty [label = \"36%\"]\n",
      "Eps -> degrAssort [label = \"33%\"]\n",
      "Eps -> Average_Clustering [label = \"26%\"]\n",
      "CN -> transty [label = \"26%\"]\n",
      "CN -> Porosity [label = \"23%\"]\n",
      "Eps -> local_efficiency [label = \"23%\"]\n",
      "SFb -> Sig [label = \"23%\"]\n"
     ]
    }
   ],
   "source": [
    "for key in valid_graph_edges:\n",
    "    print(key[0],\"->\",key[1],\"[label = \\\"{}%\\\"]\".format(int(edge_counted[key])))"
   ]
  },
  {
   "cell_type": "code",
   "execution_count": null,
   "metadata": {},
   "outputs": [],
   "source": [
    "# go to webgraphviz.com and then copy the above to generate the final graph"
   ]
  }
 ],
 "metadata": {
  "kernelspec": {
   "display_name": "order-dag",
   "language": "python",
   "name": "order-dag"
  },
  "language_info": {
   "codemirror_mode": {
    "name": "ipython",
    "version": 3
   },
   "file_extension": ".py",
   "mimetype": "text/x-python",
   "name": "python",
   "nbconvert_exporter": "python",
   "pygments_lexer": "ipython3",
   "version": "3.7.7"
  }
 },
 "nbformat": 4,
 "nbformat_minor": 4
}
